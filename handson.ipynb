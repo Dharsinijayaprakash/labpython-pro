{
  "nbformat": 4,
  "nbformat_minor": 0,
  "metadata": {
    "colab": {
      "provenance": [],
      "authorship_tag": "ABX9TyODcS5wHt3cNRmeHl0mjUCf",
      "include_colab_link": true
    },
    "kernelspec": {
      "name": "python3",
      "display_name": "Python 3"
    },
    "language_info": {
      "name": "python"
    }
  },
  "cells": [
    {
      "cell_type": "markdown",
      "metadata": {
        "id": "view-in-github",
        "colab_type": "text"
      },
      "source": [
        "<a href=\"https://colab.research.google.com/github/Dharsinijayaprakash/labpython-pro/blob/main/handson.ipynb\" target=\"_parent\"><img src=\"https://colab.research.google.com/assets/colab-badge.svg\" alt=\"Open In Colab\"/></a>"
      ]
    },
    {
      "cell_type": "markdown",
      "source": [
        "1. Write a program to create a new string made of an input string’s first, middle, and last character.\n",
        "\tEg:  str1= ”PRADEEP”\n",
        "\tOutput: PDP"
      ],
      "metadata": {
        "id": "uKV1iParGiUg"
      }
    },
    {
      "cell_type": "code",
      "execution_count": 1,
      "metadata": {
        "colab": {
          "base_uri": "https://localhost:8080/"
        },
        "id": "hSaurdSgGZOn",
        "outputId": "22ef94f5-7101-489d-ce5d-046e676fb637"
      },
      "outputs": [
        {
          "output_type": "stream",
          "name": "stdout",
          "text": [
            "Enter a string:PRADEEP\n",
            "PDP\n"
          ]
        }
      ],
      "source": [
        "u=input(\"Enter a string:\")\n",
        "a=len(u)//2\n",
        "print(u[0]+u[a]+u[-1])"
      ]
    },
    {
      "cell_type": "markdown",
      "source": [
        "2. Write a program to create a new string made of the middle three characters of an input string.\n",
        "\tEg: str1= “PRADEEP”                     \n",
        "\tOutput: ADE"
      ],
      "metadata": {
        "id": "XJrctuTVHEX7"
      }
    },
    {
      "cell_type": "code",
      "source": [
        "u=input(\"Enter a string:\")\n",
        "a=len(u)//2\n",
        "b=a-1\n",
        "c=a+1\n",
        "print(u[b]+u[a]+u[c])"
      ],
      "metadata": {
        "colab": {
          "base_uri": "https://localhost:8080/"
        },
        "id": "BKwoo4y0HKEj",
        "outputId": "515aaf11-a6b0-417c-dbc2-65760d24b101"
      },
      "execution_count": 2,
      "outputs": [
        {
          "output_type": "stream",
          "name": "stdout",
          "text": [
            "Enter a string:PRADEEP\n",
            "ADE\n"
          ]
        }
      ]
    },
    {
      "cell_type": "markdown",
      "source": [
        "3. Given two strings, str1 and str2. Write a program to create a new string str3 by appending str2 in the middle of str1.\n",
        "\tEg: str1= ”STAR”                                str2= “SUPER”\n",
        "\tOutput:   STSUPERAR"
      ],
      "metadata": {
        "id": "XZCBrXvjIBF6"
      }
    },
    {
      "cell_type": "code",
      "source": [
        "a=input(\"Enter a string:\\n\")\n",
        "b=input(\"Enter a string:\\n\")\n",
        "d=len(a)//2\n",
        "c=a[0:d]\n",
        "e=a[d:len(a)]\n",
        "print(c+b+e)\n"
      ],
      "metadata": {
        "colab": {
          "base_uri": "https://localhost:8080/"
        },
        "id": "d1G6VkLZIgRP",
        "outputId": "c3e49b4e-ffc4-4a87-c965-4827f500bdbe"
      },
      "execution_count": 4,
      "outputs": [
        {
          "output_type": "stream",
          "name": "stdout",
          "text": [
            "Enter a string:\n",
            "STAR\n",
            "Enter a string:\n",
            "SUPER\n",
            "STSUPERAR\n"
          ]
        }
      ]
    },
    {
      "cell_type": "markdown",
      "source": [
        "4. Given two strings, str1 and str2, write a program to return a new string made of str1 and str2’s first, middle, and last characters.\n",
        "\tEg: str1= “LEO”                                  str2= “DAS”\n",
        "\tOutput: LDEAOS"
      ],
      "metadata": {
        "id": "P-BT8dhFJRq0"
      }
    },
    {
      "cell_type": "code",
      "source": [
        "u=input(\"Enter a string:\\n\")\n",
        "v=input(\"Enter a string:\\n\")\n",
        "for i in range(len(u)):\n",
        "    c=u[i]+v[i]\n",
        "    print(c,end=\"\")\n"
      ],
      "metadata": {
        "colab": {
          "base_uri": "https://localhost:8080/"
        },
        "id": "zgawmTb-JS3K",
        "outputId": "ea23d6ad-cb37-4371-b845-b9ce470a04ab"
      },
      "execution_count": 5,
      "outputs": [
        {
          "output_type": "stream",
          "name": "stdout",
          "text": [
            "Enter a string:\n",
            "LEO\n",
            "Enter a string:\n",
            "DAS\n",
            "LDEAOS"
          ]
        }
      ]
    },
    {
      "cell_type": "markdown",
      "source": [
        "5. Given two strings, str1 and str2, write a program to return a new string made of str1 and str2’s in reverse order.\n",
        "\tEg: str1= ”SUPER”                                         str2= ”STAR”\n",
        "\tOutput: RATSREPUS"
      ],
      "metadata": {
        "id": "D_TLXcA9O-I1"
      }
    },
    {
      "cell_type": "code",
      "source": [
        "u=input(\"Enter a string:\\n\")\n",
        "v=input(\"Enter a string:\\n\")\n",
        "c=u[::-1]\n",
        "d=v[::-1]\n",
        "print(d+c)"
      ],
      "metadata": {
        "colab": {
          "base_uri": "https://localhost:8080/"
        },
        "id": "VsP-b2KqO_vb",
        "outputId": "88043a44-6227-405f-ed49-539a62a7ac84"
      },
      "execution_count": 6,
      "outputs": [
        {
          "output_type": "stream",
          "name": "stdout",
          "text": [
            "Enter a string:\n",
            "SUPER\n",
            "Enter a string:\n",
            "STAR\n",
            "RATSREPUS\n"
          ]
        }
      ]
    },
    {
      "cell_type": "markdown",
      "source": [
        "6. Count all letters, digits, and special symbols from a given string\n",
        "str1 = \"P@#yn26at^&i5ve\"\n",
        "Outcome:\n",
        "Total counts of chars, digits, and symbols\n",
        "Chars = 8\n",
        "Digits = 3\n",
        "Symbol = 4\n"
      ],
      "metadata": {
        "id": "MK78Rs2dPtfN"
      }
    },
    {
      "cell_type": "code",
      "source": [
        "a=input(\"Enter a string:\\n\")\n",
        "charcount=0\n",
        "digitcount=0\n",
        "symbolcount=0\n",
        "for i in a:\n",
        "    if i.isalpha():\n",
        "        charcount+=1\n",
        "    elif i.isalnum():\n",
        "        digitcount+=1\n",
        "    else:\n",
        "        symbolcount+=1\n",
        "print(charcount)\n",
        "print(digitcount)\n",
        "print(symbolcount)\n"
      ],
      "metadata": {
        "colab": {
          "base_uri": "https://localhost:8080/"
        },
        "id": "oRS2oA2cRY0f",
        "outputId": "8f5e80c7-302f-442e-b245-be80bea3763b"
      },
      "execution_count": 9,
      "outputs": [
        {
          "output_type": "stream",
          "name": "stdout",
          "text": [
            "Enter a string:\n",
            "P@#yn26at^&i5ve\n",
            "8\n",
            "3\n",
            "4\n"
          ]
        }
      ]
    },
    {
      "cell_type": "markdown",
      "source": [
        "7. Given two strings, s1 and s2. Write a program to create a new string s3 made of the first char of s1, then the last char of s2, Next, the second char of s1 and second last char of s2, and so on. Any leftover chars go at the end of the result.\n",
        "s1 = \"Abc\"\n",
        "s2 = \"Xyz\"\n",
        "Output:\n",
        "AzbycX\n",
        "\n"
      ],
      "metadata": {
        "id": "dhlDy-4RRtim"
      }
    },
    {
      "cell_type": "code",
      "source": [
        "a=input(\"Enter a string: \\n\")\n",
        "b=input(\"Enter a string: \\n\")\n",
        "c=b[::-1]\n",
        "for i in range(len(a)):\n",
        "    d=a[i]+c[i]\n",
        "    print(d,end=\"\")"
      ],
      "metadata": {
        "colab": {
          "base_uri": "https://localhost:8080/"
        },
        "id": "NKLtDbV4RysU",
        "outputId": "c0e73660-5cc9-4109-9409-f9383af24bf5"
      },
      "execution_count": 10,
      "outputs": [
        {
          "output_type": "stream",
          "name": "stdout",
          "text": [
            "Enter a string: \n",
            "Abc\n",
            "Enter a string: \n",
            "Xyz\n",
            "AzbycX"
          ]
        }
      ]
    },
    {
      "cell_type": "markdown",
      "source": [
        "8. Write a program to calculate Employee’s bonus calculation for the details given below\n",
        "Experience\tBonus (%)\n",
        "More than 8 years\t10 %\n",
        "More than 4 years\t7%\n",
        "More than 2 years\t4%"
      ],
      "metadata": {
        "id": "S7wKIy4QSUe8"
      }
    },
    {
      "cell_type": "code",
      "source": [
        "n=int(input(\"Enter no of years:\\n\"))\n",
        "a=int(input(\"Enter salary:\\n\"))\n",
        "b=a*(10/100)\n",
        "c=a*(7/100)\n",
        "d=a*(4/100)\n",
        "if(n>8):\n",
        "    print(\"10% bonus is:\",b)\n",
        "elif(n>4):\n",
        "    print(\"7% bonus is:\",c)\n",
        "elif(n>2):\n",
        "    print(\"4% bonus is:\",d)\n",
        "else:\n",
        "    print(\"Invalid\")"
      ],
      "metadata": {
        "colab": {
          "base_uri": "https://localhost:8080/"
        },
        "id": "gvS3ZSBXSYmL",
        "outputId": "515741a6-d96c-471f-da82-131a2ddedb91"
      },
      "execution_count": 11,
      "outputs": [
        {
          "output_type": "stream",
          "name": "stdout",
          "text": [
            "Enter no of years:\n",
            "10\n",
            "Enter salary:\n",
            "20000\n",
            "10% bonus is: 2000.0\n"
          ]
        }
      ]
    },
    {
      "cell_type": "markdown",
      "source": [
        "9. Write a program to calculate the electricity bill (accept number of units from user) according to the following criteria:\n",
        "\n",
        "Units\tPrice\n",
        "First 100 units\tNo charge\n",
        "Next 100 units\tRs.5 per unit\n",
        "After 200 units\tRs.10 per unit\n",
        "(For example, if input unit is 350, then the total bill amount is Rs.2000)"
      ],
      "metadata": {
        "id": "5zyWeD22SuxL"
      }
    },
    {
      "cell_type": "code",
      "source": [
        "n=int(input(\"Enter no of units:\\n\"))\n",
        "if(n<100):\n",
        "    print(\"No charge\")\n",
        "else:\n",
        "    if(n>=100 and n<200):\n",
        "        print(f\"The charge for{n} units is:\",((n-100)*5))\n",
        "    elif(n>=200):\n",
        "        print(f\"The charge for {n} units is:\",((n-200)*10)+500)\n",
        "    else:\n",
        "        print(\"not valid\")"
      ],
      "metadata": {
        "colab": {
          "base_uri": "https://localhost:8080/"
        },
        "id": "XyRJ5keLSy1y",
        "outputId": "9eb21f37-3d05-4e55-a964-9b814111e539"
      },
      "execution_count": 12,
      "outputs": [
        {
          "output_type": "stream",
          "name": "stdout",
          "text": [
            "Enter no of units:\n",
            "350\n",
            "The charge for 350 units is: 2000\n"
          ]
        }
      ]
    },
    {
      "cell_type": "markdown",
      "source": [
        "10. Accept the marked price from the user and calculate the Net amount as (Marked Price - Discount) to pay according to following criteria:\n",
        "Marked Price\tDiscount\n",
        ">10000\t20%\n",
        "\n",
        ">7000 and <=10000\t15%\n",
        "\n",
        "<=7000\t10%"
      ],
      "metadata": {
        "id": "OHSMmdbnTO0Z"
      }
    },
    {
      "cell_type": "code",
      "source": [
        "a=int(input(\"Enter Marked amount:\\n\"))\n",
        "if(a>10000):\n",
        "    b=(a-(a*(20/100)))\n",
        "    print(\"The Netamount is:\",b)\n",
        "elif(a>7000 and a<=10000):\n",
        "    c=(a-(a*(15/100)))\n",
        "    print(\"The Netamount is:\",c)\n",
        "elif(a<=7000):\n",
        "    d=(a-(a*(10/100)))\n",
        "    print(\"The Netamount is:\",d)\n",
        "else:\n",
        "    print(\"Enter valid input\")"
      ],
      "metadata": {
        "colab": {
          "base_uri": "https://localhost:8080/"
        },
        "id": "BbP-KqmBTQPz",
        "outputId": "6933e3cf-e498-4083-e394-edf8e9cb2956"
      },
      "execution_count": 13,
      "outputs": [
        {
          "output_type": "stream",
          "name": "stdout",
          "text": [
            "Enter Marked amount:\n",
            "10000\n",
            "The Netamount is: 8500.0\n"
          ]
        }
      ]
    },
    {
      "cell_type": "markdown",
      "source": [
        "11. Write a program to find the given number is prime number or not.\n"
      ],
      "metadata": {
        "id": "x8B3np_rTYAx"
      }
    },
    {
      "cell_type": "code",
      "source": [
        "num=int(input(\"Enter a number:\\n\"))\n",
        "a = False\n",
        "if num == 1:\n",
        "    print(num, \"is not a prime number\")\n",
        "elif num > 1:\n",
        "    for i in range(2, num):\n",
        "        if (num % i) == 0:\n",
        "            a = True\n",
        "            break\n",
        "    if a:\n",
        "        print(num, \"is not a prime number\")\n",
        "    else:\n",
        "        print(num, \"is a prime number\")"
      ],
      "metadata": {
        "colab": {
          "base_uri": "https://localhost:8080/"
        },
        "id": "odKdl2GlTblh",
        "outputId": "a8c8eceb-4b1f-454c-c625-bfd1359c70e1"
      },
      "execution_count": 14,
      "outputs": [
        {
          "output_type": "stream",
          "name": "stdout",
          "text": [
            "Enter a number:\n",
            "5\n",
            "5 is a prime number\n"
          ]
        }
      ]
    },
    {
      "cell_type": "markdown",
      "source": [
        "12. Write a program to display all prime numbers within a range"
      ],
      "metadata": {
        "id": "iN7yWJXJTini"
      }
    },
    {
      "cell_type": "code",
      "source": [
        "a= int(input (\"Enter starting value: \"))\n",
        "b= int(input (\"Enter last Value: \"))\n",
        "\n",
        "print (\"The Prime Numbers in the range are: \")\n",
        "for i in range (a,b+1):\n",
        "    if i > 1:\n",
        "        for j in range (2,i):\n",
        "            if (i%j) == 0:\n",
        "                break\n",
        "        else:\n",
        "            print (i)"
      ],
      "metadata": {
        "colab": {
          "base_uri": "https://localhost:8080/"
        },
        "id": "sN5SIdIGTma1",
        "outputId": "c025a3e0-86a1-49f9-9cb6-a730712f66db"
      },
      "execution_count": 15,
      "outputs": [
        {
          "output_type": "stream",
          "name": "stdout",
          "text": [
            "Enter starting value: 10\n",
            "Enter last Value: 20\n",
            "The Prime Numbers in the range are: \n",
            "11\n",
            "13\n",
            "17\n",
            "19\n"
          ]
        }
      ]
    },
    {
      "cell_type": "markdown",
      "source": [
        "13. Write a program to reverse a number? Example: 3256 will be printed as \t6523 (reverse order)"
      ],
      "metadata": {
        "id": "UyTlWPsiTwSX"
      }
    },
    {
      "cell_type": "code",
      "source": [
        "a=int(input())\n",
        "sum=0\n",
        "while(a!=0):\n",
        "    sum=sum*10+(a%10)\n",
        "    a//=10\n",
        "print(sum)"
      ],
      "metadata": {
        "colab": {
          "base_uri": "https://localhost:8080/"
        },
        "id": "abjz47KpT0uv",
        "outputId": "ee1c0e22-de73-4558-98ee-5cc7287393af"
      },
      "execution_count": 16,
      "outputs": [
        {
          "output_type": "stream",
          "name": "stdout",
          "text": [
            "3256\n",
            "6523\n"
          ]
        }
      ]
    },
    {
      "cell_type": "markdown",
      "source": [
        "14. Write a program to print the following pattern\n",
        "\t\t    *         \n",
        "          * * *       \n",
        "         * * * * *     \n",
        "        * * * * * * *   \n",
        "       * * * * * * * * *"
      ],
      "metadata": {
        "id": "Exx838ZJUH0H"
      }
    },
    {
      "cell_type": "code",
      "source": [
        "for i in range(5):\n",
        "    for j in range(4-i):\n",
        "        print(\" \",end=\" \")\n",
        "    for k in range(i+1):\n",
        "        print(\"*\",end=\" \")\n",
        "    for x in range(i):\n",
        "        print(\"*\",end=\" \")\n",
        "    for n in range(4-i):\n",
        "        print(\" \",end=\" \")\n",
        "    print()"
      ],
      "metadata": {
        "colab": {
          "base_uri": "https://localhost:8080/"
        },
        "id": "WXCgz1vdUMew",
        "outputId": "10a429a9-8d0c-4258-95d4-efa05307ffd8"
      },
      "execution_count": 17,
      "outputs": [
        {
          "output_type": "stream",
          "name": "stdout",
          "text": [
            "        *         \n",
            "      * * *       \n",
            "    * * * * *     \n",
            "  * * * * * * *   \n",
            "* * * * * * * * * \n"
          ]
        }
      ]
    },
    {
      "cell_type": "markdown",
      "source": [
        "15.  Write a program to print the Fibonacci Series up to 10 terms."
      ],
      "metadata": {
        "id": "z_RLQ0AiUUon"
      }
    },
    {
      "cell_type": "code",
      "source": [
        "n=int(input(\"Enter a:\\n\"))\n",
        "a=0\n",
        "b=1\n",
        "if n<=1:\n",
        "    print(a)\n",
        "    print(b)\n",
        "else:\n",
        "    print(a)\n",
        "    print(b)\n",
        "    for i in range(3,n+1):\n",
        "        res=a+b\n",
        "        a=b\n",
        "        b=res\n",
        "        print(res)"
      ],
      "metadata": {
        "colab": {
          "base_uri": "https://localhost:8080/"
        },
        "id": "v3W_Iq_1UeeH",
        "outputId": "5493dbd0-8c0e-4fd8-f56c-493cd06de05b"
      },
      "execution_count": 18,
      "outputs": [
        {
          "output_type": "stream",
          "name": "stdout",
          "text": [
            "Enter a:\n",
            "5\n",
            "0\n",
            "1\n",
            "1\n",
            "2\n",
            "3\n"
          ]
        }
      ]
    },
    {
      "cell_type": "markdown",
      "source": [
        "LIST,TUPLE,SET,DICTIONARY"
      ],
      "metadata": {
        "id": "QIcmTOBDVDpG"
      }
    },
    {
      "cell_type": "markdown",
      "source": [
        "1.Create a list of first 10 natural numbers. And write a program to find the lists of odd numbers and even numbers separately. And, to find the square of its odd and even lists"
      ],
      "metadata": {
        "id": "3xcpcykWU-HI"
      }
    },
    {
      "cell_type": "code",
      "source": [
        "a=[int(x)for x in input().split()]\n",
        "b=[]\n",
        "c=[]\n",
        "for i in a:\n",
        "    if i%2==0:\n",
        "        b.append(i)\n",
        "    else:\n",
        "        c.append(i)\n",
        "print(\"The even list is:\",b)\n",
        "print(\"The odd list is:\",c)\n",
        "d=[x**2 for x in b]\n",
        "e=[x**2 for x in c]\n",
        "print(\"Square of even list:\",d)\n",
        "print(\"Square of odd list:\",e)\n"
      ],
      "metadata": {
        "colab": {
          "base_uri": "https://localhost:8080/"
        },
        "id": "xBNkK3frVLat",
        "outputId": "da22b5fc-ab48-4219-cb83-11e15bf6eb7e"
      },
      "execution_count": 20,
      "outputs": [
        {
          "output_type": "stream",
          "name": "stdout",
          "text": [
            "1 2 3 4 5 6 7 8 9 10\n",
            "The even list is: [2, 4, 6, 8, 10]\n",
            "The odd list is: [1, 3, 5, 7, 9]\n",
            "Square of even list: [4, 16, 36, 64, 100]\n",
            "Square of odd list: [1, 9, 25, 49, 81]\n"
          ]
        }
      ]
    },
    {
      "cell_type": "markdown",
      "source": [
        "2.Write a program to find the largest and smallest number in the list without using the in-built function."
      ],
      "metadata": {
        "id": "67VaCrYrVdv0"
      }
    },
    {
      "cell_type": "code",
      "source": [
        "a=[int(x)for x in input().split()]\n",
        "for i in range(len(a)):\n",
        "    for j in range(i+1,len(a)):\n",
        "        if a[i]>a[j]:\n",
        "            a[i],a[j]=a[j],a[i]\n",
        "print(a)\n",
        "print(\"The smallest element in the array is:\",a[0])\n",
        "print(\"The largest element in the array is:\",a[-1])"
      ],
      "metadata": {
        "colab": {
          "base_uri": "https://localhost:8080/"
        },
        "id": "wpZAtWeCVfwu",
        "outputId": "80fa6d88-6d98-49c6-ac81-501ef35d481c"
      },
      "execution_count": 21,
      "outputs": [
        {
          "output_type": "stream",
          "name": "stdout",
          "text": [
            "10 5 7 3 1\n",
            "[1, 3, 5, 7, 10]\n",
            "The smallest element in the array is: 1\n",
            "The largest element in the array is: 10\n"
          ]
        }
      ]
    },
    {
      "cell_type": "markdown",
      "source": [
        "3.Write a program to find the second largest and second smallest number in the list without using the in-built function."
      ],
      "metadata": {
        "id": "DaBnDhLpVsCU"
      }
    },
    {
      "cell_type": "code",
      "source": [
        "a=[int(x)for x in input().split()]\n",
        "for i in range(len(a)):\n",
        "    for j in range(i+1,len(a)):\n",
        "        if a[i]>a[j]:\n",
        "            a[i],a[j]=a[j],a[i]\n",
        "print(a)\n",
        "print(\"The second smallest element in the array is:\",a[1])\n",
        "print(\"The second largest element in the array is:\",a[-2])"
      ],
      "metadata": {
        "colab": {
          "base_uri": "https://localhost:8080/"
        },
        "id": "A6NOoDh5VyD8",
        "outputId": "1a31951e-e5b4-4b5e-9d29-a0c6a38c247f"
      },
      "execution_count": 22,
      "outputs": [
        {
          "output_type": "stream",
          "name": "stdout",
          "text": [
            "10 5 7 3 1\n",
            "[1, 3, 5, 7, 10]\n",
            "The second smallest element in the array is: 3\n",
            "The second largest element in the array is: 7\n"
          ]
        }
      ]
    },
    {
      "cell_type": "markdown",
      "source": [
        "4.Write a program to sort elements stored in the list as Ascending order and Descending order without using the in-built function (sort ()).\n",
        "Eg: [5,3,7,9,8,4,2] Output: [2,3,4,5,7,8,9] – Ascending Order, [9,8,7,5,4,3,2] – Descending Order"
      ],
      "metadata": {
        "id": "-GBoA_b6V_br"
      }
    },
    {
      "cell_type": "code",
      "source": [
        "a=[int(x)for x in input().split()]\n",
        "for i in range(len(a)):\n",
        "    for j in range(i+1,len(a)):\n",
        "        if a[i]>a[j]:\n",
        "            a[i],a[j]=a[j],a[i]\n",
        "print(f\"{a}-Ascending order\")\n",
        "c=a[::-1]\n",
        "print(f\"{c}-Descending order\")"
      ],
      "metadata": {
        "colab": {
          "base_uri": "https://localhost:8080/"
        },
        "id": "c0tBvkzNWA-s",
        "outputId": "82442b5b-6cff-4801-c7e2-043b1a08b30d"
      },
      "execution_count": 23,
      "outputs": [
        {
          "output_type": "stream",
          "name": "stdout",
          "text": [
            "9 3 2 5 1 4 8 7\n",
            "[1, 2, 3, 4, 5, 7, 8, 9]-Ascending order\n",
            "[9, 8, 7, 5, 4, 3, 2, 1]-Descending order\n"
          ]
        }
      ]
    },
    {
      "cell_type": "markdown",
      "source": [
        "5.Find the index position of the specific number stored in the list. Eg: a= [45,67,83,24,55,87,77,34] What is the position of 55? Output: 4"
      ],
      "metadata": {
        "id": "dx2zW2zfWTW8"
      }
    },
    {
      "cell_type": "code",
      "source": [
        "a=[int(x)for x in input().split()]\n",
        "b=int(input(\"\"))\n",
        "for i in a:\n",
        "  if i==b:\n",
        "    print(f\"The index position of {b} is {a.index(i)}\")"
      ],
      "metadata": {
        "colab": {
          "base_uri": "https://localhost:8080/"
        },
        "id": "wDdPJiZaWXww",
        "outputId": "d32d5249-54f4-487b-b002-4d4f2e783e76"
      },
      "execution_count": 24,
      "outputs": [
        {
          "output_type": "stream",
          "name": "stdout",
          "text": [
            "55 67 88 22 45\n",
            "88\n",
            "The index position of 88 is 2\n"
          ]
        }
      ]
    },
    {
      "cell_type": "markdown",
      "source": [
        "6.Find most frequent element present in a list. Eg: a= [4,5,6,4,6,7,4,2,4,8,4] Output: 4"
      ],
      "metadata": {
        "id": "lCmzWf3wWyTE"
      }
    },
    {
      "cell_type": "code",
      "source": [
        "a=[int(x)for x in input().split()]\n",
        "frequentelement=0\n",
        "for i in a:\n",
        "  count=a.count(i)\n",
        "  if count>frequentelement:\n",
        "    frequentelement=count\n",
        "    print(\"The frequent element is:\",i)"
      ],
      "metadata": {
        "colab": {
          "base_uri": "https://localhost:8080/"
        },
        "id": "C6IDOF6fXG3K",
        "outputId": "a19a0c8a-0002-44d1-8498-79655dcc917e"
      },
      "execution_count": 25,
      "outputs": [
        {
          "output_type": "stream",
          "name": "stdout",
          "text": [
            "3 2 5 7 8 4 3 2 1 3 2 5 3 \n",
            "The frequent element is: 3\n"
          ]
        }
      ]
    },
    {
      "cell_type": "markdown",
      "source": [
        "7.Below are the two lists. Write a Python program to convert them into a dictionary in a way that item from list1 is the key and item from list2 is the value by using update method (). keys = ['Ten', 'Twenty', 'Thirty'] values = [10, 20, 30] Output: {'Ten': 10, 'Twenty': 20, 'Thirty': 30}"
      ],
      "metadata": {
        "id": "HmZKjulsXiTA"
      }
    },
    {
      "cell_type": "code",
      "source": [
        "a=[str(x)for x in input().split()]\n",
        "b=[int(x)for x in input().split()]\n",
        "c=dict(zip(a,b))\n",
        "print(c)\n"
      ],
      "metadata": {
        "colab": {
          "base_uri": "https://localhost:8080/"
        },
        "id": "Yz5nGWLIXnf1",
        "outputId": "3fce161d-8691-4e9e-8f58-2b7faf5ff9c2"
      },
      "execution_count": 26,
      "outputs": [
        {
          "output_type": "stream",
          "name": "stdout",
          "text": [
            "ten twenty thirty\n",
            "10 20 30\n",
            "{'ten': 10, 'twenty': 20, 'thirty': 30}\n"
          ]
        }
      ]
    },
    {
      "cell_type": "markdown",
      "source": [
        "8.Create a list of 10 members as a Voter_list. Assume that there are 3 Candidates (A, B & C) are going to contest in the election process. Write a program that voters will cast their votes and predict the Winner and Runner of the election process and to find the members who voted for the Winner and Runner."
      ],
      "metadata": {
        "id": "PdrJgzZ1X4nm"
      }
    },
    {
      "cell_type": "code",
      "source": [
        "a=[\"ramu\",\"ravi\",\"ragul\",\"vimal\",\"deva\",\"nithin\",\"naghul\",\"midhun\",\"david\",\"akash\"]\n",
        "v=0\n",
        "h=0\n",
        "r=0\n",
        "n=0\n",
        "vv=[]\n",
        "dd=[]\n",
        "rr=[]\n",
        "nn=[]\n",
        "print(\"Name of the voters:\",a)\n",
        "print('''\n",
        "      for virat press 1\n",
        "      for dhoni press 2\n",
        "      for rohit press 3\n",
        "      for nota press 4''')\n",
        "for i in a:\n",
        "    vote=int(input(f\"{i} enter your option:\"))\n",
        "    j=vote\n",
        "    if j==1:\n",
        "        v+=1\n",
        "        vv.append(i)\n",
        "    elif j==2:\n",
        "        h+=1\n",
        "        dd.append(i)\n",
        "    elif j==3:\n",
        "        r+=1\n",
        "        rr.append(i)\n",
        "    elif j==4:\n",
        "        n+=1\n",
        "        nn.append(i)\n",
        "    else:\n",
        "        print(\"Enter valid input\")\n",
        "if(v>h and v>r and v>n):\n",
        "    print(f\"Virat is the winner with {v} votes\")\n",
        "    print(vv)\n",
        "elif(h>v and h>r and h>n):\n",
        "    print(f\"Dhoni is the winner with {h} votes\")\n",
        "    print(dd)\n",
        "elif(r>v and r>h and r>n):\n",
        "    print(f\"Rohit is the winner with {r} votes\")\n",
        "    print(rr)\n",
        "elif(n>v and n>h and n>r):\n",
        "    print(f\"Nota is the winner with {n} votes\")\n",
        "    print(nn)\n",
        "else:\n",
        "    print(\"No winner\")"
      ],
      "metadata": {
        "colab": {
          "base_uri": "https://localhost:8080/"
        },
        "id": "5G_L_fUEX_-O",
        "outputId": "20bdc43e-bcae-45bc-b185-aee8b7a732ca"
      },
      "execution_count": 27,
      "outputs": [
        {
          "output_type": "stream",
          "name": "stdout",
          "text": [
            "Name of the voters: ['ramu', 'ravi', 'ragul', 'vimal', 'deva', 'nithin', 'naghul', 'midhun', 'david', 'akash']\n",
            "\n",
            "      for virat press 1\n",
            "      for dhoni press 2\n",
            "      for rohit press 3\n",
            "      for nota press 4\n",
            "ramu enter your option:2\n",
            "ravi enter your option:4\n",
            "ragul enter your option:1\n",
            "vimal enter your option:2\n",
            "deva enter your option:4\n",
            "nithin enter your option:2\n",
            "naghul enter your option:2\n",
            "midhun enter your option:4\n",
            "david enter your option:1\n",
            "akash enter your option:2\n",
            "Dhoni is the winner with 5 votes\n",
            "['ramu', 'vimal', 'nithin', 'naghul', 'akash']\n"
          ]
        }
      ]
    },
    {
      "cell_type": "markdown",
      "source": [
        "9.Write a program to calculate the following functions:\n",
        "\n",
        "India (Rupee) to US (Dollar) conversion Celsius to Fahrenheit BMI Calculation Simple Interest Calculation"
      ],
      "metadata": {
        "id": "nuBNmC0uYj8D"
      }
    },
    {
      "cell_type": "code",
      "source": [
        "def rupee_to_dollar(rupees):\n",
        "  dollars = rupees / 75\n",
        "  print(f\"{rupees} rupees is equal to {dollars:.2f} dollars.\")\n",
        "def celsius_to_fahrenheit(celsius):\n",
        "  fahrenheit = (celsius * 9/5) + 32\n",
        "  print(f\"{celsius} degrees Celsius is equal to {fahrenheit:.2f} degrees Fahrenheit.\")\n",
        "\n",
        "def bmi_calculation(weight, height):\n",
        "  bmi = weight / (height * height)\n",
        "  print(f\"Your BMI is {bmi:.2f}.\")\n",
        "\n",
        "\n",
        "def simple_interest_calculation(principal, rate, time):\n",
        "  simple_interest = (principal * rate * time) / 100\n",
        "  print(f\"Your BMI is {bmi:.2f}.\")\n",
        "print(f\"The simple interest is {simple_interest:.2f}.\")\n",
        "\n",
        "rupees = float(input(\"Enter the amount in rupees: \"))\n",
        "celsius = float(input(\"Enter the temperature in Celsius: \"))\n",
        "weight = float(input(\"Enter your weight in kilograms: \"))\n",
        "height = float(input(\"Enter your height in meters: \"))\n",
        "principal = float(input(\"Enter the principal amount: \"))\n",
        "rate = float(input(\"Enter the rate of interest: \"))\n",
        "time = float(input(\"Enter the time period in years: \"))\n",
        "dollars = rupee_to_dollar(rupees)\n",
        "fahrenheit = celsius_to_fahrenheit(celsius)\n",
        "bmi = bmi_calculation(weight, height)\n",
        "simple_interest = simple_interest_calculation(principal, rate, time)"
      ],
      "metadata": {
        "id": "qxuv6fV9Yr-v"
      },
      "execution_count": null,
      "outputs": []
    },
    {
      "cell_type": "markdown",
      "source": [
        "Write a program to get 0s and 1s in the list: Eg: Input list= [0,1,0,1,1,0,1,0,1,0] Output:\n",
        "\n",
        "[0,0,0,0,0,1,1,1,1,1]"
      ],
      "metadata": {
        "id": "xOVD26N_Y758"
      }
    },
    {
      "cell_type": "code",
      "source": [
        "a = [int(x) for x in input().split()]\n",
        "b = [x for x in a if x == 1]\n",
        "c = [x for x in a if x == 0]\n",
        "print(c+b)\n"
      ],
      "metadata": {
        "colab": {
          "base_uri": "https://localhost:8080/"
        },
        "id": "xwkxJ3vZZG3T",
        "outputId": "482d4acb-9811-4d0f-fe8e-25802be405a8"
      },
      "execution_count": 30,
      "outputs": [
        {
          "output_type": "stream",
          "name": "stdout",
          "text": [
            "0 1 0 1 1 0 1 0 1 0\n",
            "[0, 0, 0, 0, 0, 1, 1, 1, 1, 1]\n"
          ]
        }
      ]
    }
  ]
}